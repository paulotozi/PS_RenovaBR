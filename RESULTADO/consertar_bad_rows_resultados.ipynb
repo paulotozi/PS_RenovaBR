{
 "cells": [
  {
   "cell_type": "code",
   "execution_count": 3,
   "id": "7a0a8398-ab24-4e63-835b-8f7d6c220f42",
   "metadata": {},
   "outputs": [],
   "source": [
    "import pandas as pd\n",
    "\n",
    "filePath = 'SP_turno_1.csv'\n",
    "\n",
    "dataframe = pd.read_csv(filePath, index_col=False, encoding='latin-1', on_bad_lines = 'skip', delimiter=';')"
   ]
  },
  {
   "cell_type": "code",
   "execution_count": 6,
   "id": "eb392d47-9dc4-40c2-9eac-a03a03adea15",
   "metadata": {},
   "outputs": [],
   "source": [
    "dataframe.to_csv('resultados.csv', index=False)"
   ]
  }
 ],
 "metadata": {
  "kernelspec": {
   "display_name": "Python 3 (ipykernel)",
   "language": "python",
   "name": "python3"
  },
  "language_info": {
   "codemirror_mode": {
    "name": "ipython",
    "version": 3
   },
   "file_extension": ".py",
   "mimetype": "text/x-python",
   "name": "python",
   "nbconvert_exporter": "python",
   "pygments_lexer": "ipython3",
   "version": "3.9.12"
  }
 },
 "nbformat": 4,
 "nbformat_minor": 5
}
